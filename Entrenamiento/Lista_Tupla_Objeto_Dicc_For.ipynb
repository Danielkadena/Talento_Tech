{
  "nbformat": 4,
  "nbformat_minor": 0,
  "metadata": {
    "colab": {
      "provenance": []
    },
    "kernelspec": {
      "name": "python3",
      "display_name": "Python 3"
    },
    "language_info": {
      "name": "python"
    }
  },
  "cells": [
    {
      "cell_type": "markdown",
      "source": [
        "# Lista"
      ],
      "metadata": {
        "id": "LXYuMuzhFSQm"
      }
    },
    {
      "cell_type": "code",
      "source": [
        "# Ejemplo: lista de Frutas\n",
        "\n",
        "frutas = [\"Mango\",\"Manzana\",\"Manzanapera\",\"Pera\",\"Uva\"]\n",
        "print(\"frutas:\", frutas)\n",
        "\n",
        "# Puedo cambiar de opinión: ya no quiero Pera, ahora quiero mango\n",
        "frutas[2] = \"pepino\"\n",
        "print(\"Lista actualizada de frutas:\", frutas)"
      ],
      "metadata": {
        "colab": {
          "base_uri": "https://localhost:8080/"
        },
        "id": "R_jl5zvqArDw",
        "outputId": "1fc5390c-8a22-4e0d-9111-739815975295"
      },
      "execution_count": 10,
      "outputs": [
        {
          "output_type": "stream",
          "name": "stdout",
          "text": [
            "frutas: ['Mango', 'Manzana', 'Manzanapera', 'Pera', 'Uva']\n",
            "Lista actualizada de frutas: ['Mango', 'Manzana', 'pepino', 'Pera', 'Uva']\n"
          ]
        }
      ]
    },
    {
      "cell_type": "markdown",
      "source": [
        "# Tupla"
      ],
      "metadata": {
        "id": "kyqL9y6LAqJo"
      }
    },
    {
      "cell_type": "code",
      "execution_count": null,
      "metadata": {
        "id": "-0TxwvB9_fpu"
      },
      "outputs": [],
      "source": [
        "coor_DIRECCIONAL = (22.98,42.87)\n",
        "print(coor_DIRECCIONAL)\n",
        "print(type(coor_DIRECCIONAL))"
      ]
    },
    {
      "cell_type": "code",
      "source": [
        "coor_DIRECCIONAL[0]\n",
        "print(coor_DIRECCIONAL[0])"
      ],
      "metadata": {
        "id": "-9vCzTWLA0II"
      },
      "execution_count": null,
      "outputs": []
    },
    {
      "cell_type": "code",
      "source": [
        "coor_DIRECCIONAL[0] = \"58.63\"\n",
        "# Este valor no puede cambiar"
      ],
      "metadata": {
        "id": "8N52HPGSA9Cf"
      },
      "execution_count": null,
      "outputs": []
    },
    {
      "cell_type": "markdown",
      "source": [
        "# Objetos"
      ],
      "metadata": {
        "id": "UlPDnTEkBQ3_"
      }
    },
    {
      "cell_type": "code",
      "source": [
        "Persona = {\n",
        "    \"nombre\" : \"Daniel\",\n",
        "    \"apellido\" : \"Cadena\",\n",
        "    \"edad\" : 45,\n",
        "    \"estatura\" : 1.80,\n",
        "    \"estado_civil\" : \"soltero\"\n",
        "}\n",
        "print(Persona)\n",
        "print(type(Persona))"
      ],
      "metadata": {
        "colab": {
          "base_uri": "https://localhost:8080/"
        },
        "id": "pI7Skt8bBRQY",
        "outputId": "0688680b-9c4f-410c-e02d-f5bc0e598973"
      },
      "execution_count": 4,
      "outputs": [
        {
          "output_type": "stream",
          "name": "stdout",
          "text": [
            "{'nombre': 'Daniel', 'apellido': 'Cadena', 'edad': 45, 'estatura': 1.8, 'estado_civil': 'soltero'}\n",
            "<class 'dict'>\n"
          ]
        }
      ]
    },
    {
      "cell_type": "markdown",
      "source": [
        "## Tienda"
      ],
      "metadata": {
        "id": "e7sMrjfKBgLu"
      }
    },
    {
      "cell_type": "code",
      "source": [
        "negocio = \"La fruteria\"\n",
        "direccion = \"calle falsa 123\"\n",
        "telefono = \"123456789\"\n",
        "lema = \"Unas frutas que disfrutas\"\n",
        "print(negocio)\n",
        "print(direccion)\n",
        "print(telefono)\n",
        "print(lema)\n",
        "\n",
        "tienda = {\n",
        "\"producto_1\" : {\n",
        "    \"nombre\" : \"Mango\",\n",
        "    \"cantidad\" : 45,\n",
        "    \"precio\" : 25.99,\n",
        "    \"estado\" : \"disponible\"\n",
        "    },\n",
        "\n",
        "\"producto_2\" : {\n",
        "    \"nombre\" : \"Manzana\",\n",
        "    \"cantidad\" : 89,\n",
        "    \"precio\" : 13.99,\n",
        "    \"estado\" : \"disponible\"\n",
        "    },\n",
        "\n",
        "\"producto_3\" :  {\n",
        "    \"nombre\" : \"Manzanapera\",\n",
        "    \"cantidad\" : 14,\n",
        "    \"precio\" : 20.99,\n",
        "    \"estado\" : \"disponible\"\n",
        "    },\n",
        "\n",
        "\"producto_4\" :  {\n",
        "    \"nombre\" : \"Pera\",\n",
        "    \"cantidad\" : 148,\n",
        "    \"precio\" : 5.99,\n",
        "    \"estado\" : \"disponible\"\n",
        "    },\n",
        "\n",
        "\"producto_5\" : {\n",
        "    \"nombre\" : \"uva\",\n",
        "    \"cantidad\" : 18,\n",
        "    \"precio\" : 15.99,\n",
        "    \"estado\" : \"disponible\"\n",
        "    }\n",
        "\n",
        "     }\n",
        "\n",
        "\n",
        "print(tienda[\"producto_1\"])\n",
        "print(tienda[\"producto_2\"])\n",
        "print(tienda[\"producto_3\"])\n",
        "print(tienda[\"producto_4\"])\n",
        "print(tienda[\"producto_5\"])"
      ],
      "metadata": {
        "colab": {
          "base_uri": "https://localhost:8080/"
        },
        "id": "DxBvnzXzBZcP",
        "outputId": "c42a6143-33ad-4461-960d-b1ffb4cc43ca"
      },
      "execution_count": 1,
      "outputs": [
        {
          "output_type": "stream",
          "name": "stdout",
          "text": [
            "La fruteria\n",
            "calle falsa 123\n",
            "123456789\n",
            "Unas frutas que disfrutas\n",
            "{'nombre': 'Mango', 'cantidad': 45, 'precio': 25.99, 'estado': 'disponible'}\n",
            "{'nombre': 'Manzana', 'cantidad': 89, 'precio': 13.99, 'estado': 'disponible'}\n",
            "{'nombre': 'Mananapera', 'cantidad': 14, 'precio': 20.99, 'estado': 'disponible'}\n",
            "{'nombre': 'Pera', 'cantidad': 148, 'precio': 5.99, 'estado': 'disponible'}\n",
            "{'nombre': 'uva', 'cantidad': 18, 'precio': 15.99, 'estado': 'disponible'}\n"
          ]
        }
      ]
    },
    {
      "cell_type": "code",
      "source": [
        "negocio = \"La fruteria\"\n",
        "direccion = \"calle falsa 123\"\n",
        "telefono = \"123456789\"\n",
        "lema = \"Unas frutas que disfrutas\"\n",
        "\n",
        "tienda = {\n",
        "\"producto_1\" : {\n",
        "    \"nombre\" : \"Mango\",\n",
        "    \"cantidad\" : 45,\n",
        "    \"precio\" : 25.99,\n",
        "    \"estado\" : \"disponible\"\n",
        "    },\n",
        "\n",
        "\"producto_2\" : {\n",
        "    \"nombre\" : \"Manzana\",\n",
        "    \"cantidad\" : 89,\n",
        "    \"precio\" : 13.99,\n",
        "    \"estado\" : \"disponible\"\n",
        "    },\n",
        "\n",
        "\"producto_3\" :  {\n",
        "    \"nombre\" : \"Mananapera\",\n",
        "    \"cantidad\" : 14,\n",
        "    \"precio\" : 20.99,\n",
        "    \"estado\" : \"disponible\"\n",
        "    },\n",
        "\n",
        "\"producto_4\" :  {\n",
        "    \"nombre\" : \"Pera\",\n",
        "    \"cantidad\" : 148,\n",
        "    \"precio\" : 5.99,\n",
        "    \"estado\" : \"disponible\"\n",
        "    },\n",
        "\n",
        "\"producto_5\" : {\n",
        "    \"nombre\" : \"Uva\",\n",
        "    \"cantidad\" : 18,\n",
        "    \"precio\" : 15.99,\n",
        "    \"estado\" : \"disponible\"\n",
        "    }\n",
        "\n",
        "     }\n",
        "\n",
        "\n",
        "print(type(tienda))\n",
        "print(type(tienda[\"producto_1\"]))\n",
        "print(type(tienda[\"producto_1\"][\"nombre\"]))\n",
        "print(type(tienda[\"producto_1\"][\"cantidad\"]))\n",
        "print(type(tienda[\"producto_1\"][\"precio\"]))\n",
        "print(type(tienda[\"producto_1\"][\"estado\"]))\n",
        "\n"
      ],
      "metadata": {
        "colab": {
          "base_uri": "https://localhost:8080/"
        },
        "id": "lSS-CSyLBL_m",
        "outputId": "78ac2954-6761-49bb-b475-9bbb04dc0d19"
      },
      "execution_count": 6,
      "outputs": [
        {
          "output_type": "stream",
          "name": "stdout",
          "text": [
            "<class 'dict'>\n",
            "<class 'dict'>\n",
            "<class 'str'>\n",
            "<class 'int'>\n",
            "<class 'float'>\n",
            "<class 'str'>\n"
          ]
        }
      ]
    },
    {
      "cell_type": "markdown",
      "source": [
        "# For"
      ],
      "metadata": {
        "id": "e_RaQu2eJJmT"
      }
    },
    {
      "cell_type": "code",
      "source": [
        "frutas = [\"Mango\",\"Manzana\",\"Manzanapera\",\"Pera\",\"Uva\"]\n",
        "print(frutas)\n",
        "\n",
        "#para elemento en elementos(rango):\n",
        "   #haga:\n",
        "   #imprima\n",
        "for frutas in frutas:\n",
        "  print(\"Me gusta las frutas como: \", frutas)"
      ],
      "metadata": {
        "id": "WLdCmfgXJIxz"
      },
      "execution_count": null,
      "outputs": []
    }
  ]
}
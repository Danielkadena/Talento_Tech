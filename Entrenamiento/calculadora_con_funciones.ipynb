{
  "nbformat": 4,
  "nbformat_minor": 0,
  "metadata": {
    "colab": {
      "provenance": []
    },
    "kernelspec": {
      "name": "python3",
      "display_name": "Python 3"
    },
    "language_info": {
      "name": "python"
    }
  },
  "cells": [
    {
      "cell_type": "code",
      "execution_count": 1,
      "metadata": {
        "id": "Yxa5Ii_S8ewc",
        "colab": {
          "base_uri": "https://localhost:8080/"
        },
        "outputId": "e49cae0b-b700-4f33-ec0a-a0b88f890ed0"
      },
      "outputs": [
        {
          "output_type": "stream",
          "name": "stdout",
          "text": [
            "Ejemplo Calculadora con funciones )con Python\n",
            "\n",
            "MENU:\n",
            "1: +\n",
            "2: -\n",
            "3: *\n",
            "4: Dividir (/)\n",
            "5: poteciacion\n",
            "6:logaritmacion\n",
            "7: seno\n",
            "8: coseno\n",
            "9: tangente\n",
            "\n",
            "Ingrese la opción deseada del menú: 1\n",
            "Ingrese el primer número de la operación:58\n",
            "Ingrese el segundo número de la operación:36\n",
            "Vamos a sumar(+) los dos valores ingresados:\n",
            "La suma es: 94.0\n"
          ]
        }
      ],
      "source": [
        "import math\n",
        "\n",
        "print(\"Ejemplo Calculadora con funciones )con Python\" )\n",
        "\n",
        "print()\n",
        "#MENU:\n",
        "print(\"MENU:\")\n",
        "\n",
        "print(\"1: +\")\n",
        "print(\"2: -\")\n",
        "print(\"3: *\")\n",
        "print(\"4: Dividir (/)\")\n",
        "print(\"5: poteciacion\")\n",
        "print(\"6:logaritmacion\")\n",
        "print(\"7: seno\")\n",
        "print(\"8: coseno\")\n",
        "print(\"9: tangente\")\n",
        "print()\n",
        "\n",
        "#Ingreso de datos:\n",
        "\n",
        "opcion=input(\"Ingrese la opción deseada del menú: \")\n",
        "\n",
        "numero_uno=float(input('Ingrese el primer número de la operación:'))\n",
        "numero_dos=float(input('Ingrese el segundo número de la operación:'))\n",
        "\n",
        "#Posibilidades para ejecutar la calculadora:\n",
        "\n",
        "\n",
        "if opcion=='1':\n",
        "  print(\"Vamos a sumar(+) los dos valores ingresados:\")\n",
        "  print('La suma es:',numero_uno+numero_dos)\n",
        "if opcion=='2':\n",
        "  print(\"Vamos a restar(-) los dos valores ingresados:\\n\")\n",
        "  resta=numero_uno-numero_dos\n",
        "  print(\"Resultado=\",resta)\n",
        "if opcion=='3':\n",
        "  print(\"Vamos a multiplicar(*) los dos valores ingresados:\\n\")\n",
        "\n",
        "  mult=numero_uno*numero_dos\n",
        "  print(mult)\n",
        "  #print('{}*{}'.format(numero_uno,numero_dos),\"=\",'{}'.format(mult))\n",
        "if opcion=='4'or opcion=='/' or opcion=='Dividir':\n",
        "  print(\"Vamos a dividir(/) los dos valores ingresados:\\n\")\n",
        "  #VALIDANDO EL DENOMINADOR (debe ser diferente de cero)\n",
        "  if numero_dos!=0:\n",
        "    print(numero_uno/numero_dos)\n",
        "  else:\n",
        "    print(\"¡No es posible dividir entre cero!\")\n",
        "if opcion==\"5\":\n",
        "  print(\"vamos a potenciar,los dos valores ingresados:\\n\")\n",
        "  print(numero_uno**numero_dos)\n",
        "if opcion == '6':\n",
        "    print(\"Vamos a calcular el logaritmo:\")\n",
        "    try:\n",
        "        logaritmo_base_e = math.log(numero_uno)\n",
        "        print(f'El logaritmo natural (base e) de {numero_uno} es: {logaritmo_base_e}')\n",
        "        base = float(input('Ingrese la base para el logaritmo (deje en blanco para logaritmo natural): '))\n",
        "        if base:\n",
        "             logaritmo_base_n = math.log(numero_uno, base)\n",
        "             print(f'El logaritmo base {numero_dos} de {numero_uno} es: {logaritmo_base_n}')\n",
        "    except ValueError as e:\n",
        "        print(f\"Error: {e}. Asegúrese de que el número sea positivo.\")\n",
        "if opcion == '7':\n",
        "    print(\"Vamos a calcular el seno:\")\n",
        "    seno = math.sin(math.radians(numero_uno))\n",
        "    print(f'El seno de {numero_uno} es: {seno}')\n",
        "if opcion == \"8\":\n",
        "    print(\"Vamos a calcular el coseno:\")\n",
        "    coseno = math.cos(math.radians(numero_uno))\n",
        "    print(f'El coseno de {numero_uno} es: {coseno}')\n",
        "if opcion == \"9\":\n",
        "   print(\"Vamos a calcular la tangente:\")\n",
        "   tangente = math.tan(math.radians(numero_uno))\n",
        "   print(f'La tangente de {numero_uno} es: {tangente}')"
      ]
    },
    {
      "cell_type": "markdown",
      "source": [],
      "metadata": {
        "id": "9rDFYf4O-pHd"
      }
    }
  ]
}
{
  "nbformat": 4,
  "nbformat_minor": 0,
  "metadata": {
    "colab": {
      "provenance": []
    },
    "kernelspec": {
      "name": "python3",
      "display_name": "Python 3"
    },
    "language_info": {
      "name": "python"
    }
  },
  "cells": [
    {
      "cell_type": "code",
      "execution_count": null,
      "metadata": {
        "id": "FnmDw_ER2Lpu"
      },
      "outputs": [],
      "source": [
        "print(\"Ejemplo Calculadora Sencilla (+,-,*,/)con Python\" )\n",
        "\n",
        "print()\n",
        "#MENU:\n",
        "print(\"MENU:\")\n",
        "\n",
        "print(\"1: +\")\n",
        "print(\"2: -\")\n",
        "print(\"3: *\")\n",
        "print(\"4: Dividir (/)\")\n",
        "print()\n",
        "\n",
        "#Ingreso de datos:\n",
        "\n",
        "opcion=input(\"Ingrese la opción deseada del menú: \")\n",
        "\n",
        "numero_uno=float(input('Ingrese el primer número de la operación:'))\n",
        "numero_dos=float(input('Ingrese el segundo número de la operación:'))\n",
        "\n",
        "#Posibilidades para ejecutar la calculadora:\n",
        "\n",
        "\n",
        "if opcion=='1':\n",
        "  print(\"Vamos a sumar(+) los dos valores ingresados:\")\n",
        "  print('La suma es:',numero_uno+numero_dos)\n",
        "if opcion=='2':\n",
        "  print(\"Vamos a restar(-) los dos valores ingresados:\\n\")\n",
        "  resta=numero_uno-numero_dos\n",
        "  print(\"Resultado=\",resta)\n",
        "if opcion=='3':\n",
        "  print(\"Vamos a multiplicar(*) los dos valores ingresados:\\n\")\n",
        "\n",
        "  mult=numero_uno*numero_dos\n",
        "  print(mult)\n",
        "  #print('{}*{}'.format(numero_uno,numero_dos),\"=\",'{}'.format(mult))\n",
        "if opcion=='4'or opcion=='/' or opcion=='Dividir':\n",
        "  print(\"Vamos a dividir(/) los dos valores ingresados:\\n\")\n",
        "  #VALIDANDO EL DENOMINADOR (debe ser diferente de cero)\n",
        "  if numero_dos!=0:\n",
        "    print(numero_uno/numero_dos)\n",
        "  else:\n",
        "    print(\"¡No es posible dividir entre cero!\")"
      ]
    }
  ]
}

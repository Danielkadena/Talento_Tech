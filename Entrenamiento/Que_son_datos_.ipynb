{
  "nbformat": 4,
  "nbformat_minor": 0,
  "metadata": {
    "colab": {
      "provenance": []
    },
    "kernelspec": {
      "name": "python3",
      "display_name": "Python 3"
    },
    "language_info": {
      "name": "python"
    }
  },
  "cells": [
    {
      "cell_type": "markdown",
      "source": [
        "Qué son los datos?\n",
        "\n",
        "Los datos son valores numéricos asignados de manera objetiva a propiedades de objetos o eventos, como la altura de un árbol o la duración de un evento. Generalmente, vienen con una unidad de medida estándar. La revolución tecnológica ha permitido a los sistemas electrónicos recolectar y medir estos datos de forma automática, beneficiando a la industria y a las empresas.\n",
        "\n",
        "La pirámide de la automatización y el uso de datos\n",
        "La pirámide de la automatización muestra cómo los datos se usan en diferentes niveles de una organización:\n",
        "\n",
        "Nivel 0: Recopilación de datos brutos de sensores y equipos.\n",
        "\n",
        "Nivel 1: Agrupación y control de datos para tomar decisiones a nivel de procesos (ej. elegir entre dos productos diferentes).\n",
        "\n",
        "Nivel 2: Sistemas de supervisión que agrupan los datos para que sean fáciles de entender para los humanos, usando gráficos y análisis.\n",
        "\n",
        "Nivel 3: Operaciones de fabricación, donde se toman decisiones administrativas basadas en datos de rendimiento.\n",
        "\n",
        "Nivel 4: Gestión del negocio, donde se toman decisiones estratégicas de rentabilidad.\n",
        "\n",
        "Nivel 5 (Inteligencia de negocios): Un nivel más reciente donde se analizan grandes volúmenes de datos (big data) para tomar decisiones de alto nivel, como las estrategias de mercado."
      ],
      "metadata": {
        "id": "Ydeatwf4T3q4"
      }
    },
    {
      "cell_type": "markdown",
      "source": [
        "# Fases del análisis de datos"
      ],
      "metadata": {
        "id": "EbPB5j7qYA93"
      }
    },
    {
      "cell_type": "markdown",
      "source": [
        "\n",
        "\n",
        "\n",
        "El análisis de datos sigue un proceso de varias etapas:\n",
        "\n",
        "Recopilación: Obtener los datos necesarios.\n",
        "\n",
        "Limpieza: Organizar y ordenar los datos en un formato útil.\n",
        "\n",
        "Integración: Combinar datos de diferentes fuentes en una sola base de datos.\n",
        "\n",
        "Transformación: Convertir y procesar los datos para que se conviertan en información relevante, usando \"lógica de negocio\".\n",
        "\n",
        "Análisis y modelado: Utilizar los datos transformados para visualizar, encontrar patrones, y realizar análisis estadísticos. Esto incluye varios tipos, como el análisis descriptivo, exploratorio, predictivo y de segmentación."
      ],
      "metadata": {
        "id": "HQQp-tFYUCGQ"
      }
    },
    {
      "cell_type": "markdown",
      "source": [
        "Ejercicio de mediciones\n",
        "\n"
      ],
      "metadata": {
        "id": "sbQz6Aw9V8Z4"
      }
    },
    {
      "cell_type": "markdown",
      "source": [
        "Participantes:\n",
        "HAROLD EDUARDO HURTADO CHAVES\n",
        "Darly Liliana Burbano Delgado\n",
        "Daniel Cadena.\n",
        "\n",
        "¿Cuál país ha ganado más mundiales? - Brasil\n",
        "¿En qué año se marcaron más goles? - BRASIL 2014 Y FRANCIA 1998\n",
        "¿Qué sedes han repetido? - ESTADOS UNIDOS, BRAZIL Y ALEMANIA DOS VECES\n",
        "¿Qué países han participado más veces?- Brasil\n",
        "¿Cómo ha cambiado el número de equipos a lo largo del tiempo? - De 1930 a 1978 eran 16, de 1982 a 1994 eran 24, de 1998 a 2022 eran 32, la tendencia de aumento a sido de 8 en cada uno de los periodos."
      ],
      "metadata": {
        "id": "rEo6VhHSUTKQ"
      }
    },
    {
      "cell_type": "markdown",
      "source": [
        "# Tipos de análisis y los roles profesionales"
      ],
      "metadata": {
        "id": "Jc_A9o4BWvcY"
      }
    },
    {
      "cell_type": "markdown",
      "source": [
        "Tipos de análisis de datos\n",
        "\n",
        "Existen diferentes tipos de análisis, cada uno con un propósito específico:\n",
        "\n",
        "Análisis descriptivo: Responde a la pregunta \"¿Qué ha sucedido?\". Se basa en explorar datos históricos para entender los fenómenos y tendencias pasadas. Los resultados suelen presentarse en informes y gráficos (dashboards) para que sean fáciles de interpretar.\n",
        "\n",
        "Análisis predictivo: Responde a la pregunta \"¿Qué es lo más probable que ocurra en el futuro?\". Utiliza técnicas de estadística y aprendizaje de máquina (machine learning) para predecir eventos futuros basándose en patrones de datos pasados, como la demanda de productos o las ventas.\n",
        "\n",
        "Análisis prescriptivo: Responde a la pregunta \"¿Qué debemos hacer para influir en el futuro?\". Combina datos históricos con predicciones para determinar las acciones o estrategias que pueden generar resultados beneficiosos. Por ejemplo, se usa en campañas de marketing para decidir las mejores pautas de acción.\n",
        "\n",
        "Análisis diagnóstico: Responde a la pregunta \"¿Por qué ha sucedido esto?\". Complementa al análisis descriptivo al usar sus resultados para identificar las causas detrás de un evento, lo que permite tomar decisiones para mejorar procesos o reducir costos.\n",
        "\n",
        "Roles en la ciencia de datos\n",
        "El campo de la ciencia de datos cuenta con una variedad de roles especializados:\n",
        "\n",
        "Científico de Datos (Data Scientist): Diseña y construye modelos predictivos y realiza análisis estadísticos.\n",
        "\n",
        "Ingeniero de Datos (Data Engineer): Construye y mantiene la infraestructura para procesar grandes volúmenes de datos.\n",
        "\n",
        "Analista de Datos (Data Analyst): Interpreta y visualiza los datos para que sean comprensibles para personas sin experiencia técnica.\n",
        "\n",
        "Científico de Datos de Negocios (Business Data Scientist): Aplica la ciencia de datos para resolver problemas específicos de una empresa.\n",
        "\n",
        "Ingeniero de Machine Learning (Machine Learning Engineer): Se especializa en implementar modelos de aprendizaje automático en sistemas reales.\n",
        "\n",
        "Arquitecto de Datos (Data Architect): Diseña la estructura de los sistemas de almacenamiento de datos.\n",
        "\n",
        "Especialista en Big Data (Big Data Specialist): Gestiona y analiza conjuntos de datos masivos.\n",
        "\n",
        "Ingeniero de Optimización (Optimization Engineer): Mejora la eficiencia de los algoritmos y procesos.\n",
        "\n",
        "Estos roles pueden variar según la organización, y a menudo un profesional puede desempeñar funciones que abarcan más de una de estas categorías. El campo sigue evolucionando, por lo que nuevos roles pueden surgir.\n",
        "\n",
        "\n",
        "\n",
        "\n",
        "\n",
        "\n",
        "\n"
      ],
      "metadata": {
        "id": "ruCGlF8QW4FY"
      }
    },
    {
      "cell_type": "markdown",
      "source": [
        "# Tareas clave del análisis de datos"
      ],
      "metadata": {
        "id": "MeehC5JdXMTI"
      }
    },
    {
      "cell_type": "markdown",
      "source": [
        "En la Lección 3, se profundiza en las tareas esenciales del análisis de datos, desde la obtención hasta la exploración de la información.\n",
        "\n",
        "Tareas clave del análisis de datos\n",
        "Las tareas del análisis de datos son los pasos que los científicos de datos siguen para extraer valor de la información. Estas rutas de procesamiento se conocen como data pipelines. Es fundamental entender el tipo de datos que se van a analizar (tablas, texto, imágenes, etc.) para elegir los modelos y algoritmos correctos. No todos los problemas se resuelven con las mismas herramientas.\n",
        "\n",
        "Obtención de datos\n",
        "Existen varias formas de obtener datos, que generalmente ya han sido recopilados. Algunas de las fuentes más comunes son:\n",
        "\n",
        "Archivos: Los datos pueden almacenarse en diferentes formatos, cada uno con sus propias características:\n",
        "\n",
        "CSV (Comma-Separated Values): Simple y ampliamente usado, organiza datos en filas y columnas separadas por comas.\n",
        "\n",
        "JSON (JavaScript Object Notation): Común en la web, legible para humanos y fácil de procesar por máquinas.\n",
        "\n",
        "XML: Similar a JSON, utiliza etiquetas para separar la información.\n",
        "\n",
        "Otros formatos: Como los de Excel o HDF5, que pueden almacenar datos junto con cálculos y análisis.\n",
        "\n",
        "Protocolos web: Se pueden obtener datos a través de solicitudes HTTP. Un servidor responde a una solicitud con un archivo (como un JSON o un XML) que contiene la información.\n",
        "\n",
        "Bases de datos: Los datos se pueden almacenar en bases de datos y ser consultados usando un lenguaje estándar llamado SQL (Structured Query Language), que permite interactuar con bases de datos relacionales y obtener la información en múltiples formatos.\n",
        "\n",
        "Exploración de datos\n",
        "La exploración de datos es la primera fase crucial de cualquier proyecto. Su objetivo es entender la estructura y las características principales de un conjunto de datos. En esta etapa, se realizan las siguientes acciones:\n",
        "\n",
        "Identificación de variables: Se reconocen las diferentes columnas o campos del conjunto de datos.\n",
        "\n",
        "Análisis de tipos de datos: Se examina el tipo de información que contiene cada variable (números, texto, fechas, etc.).\n",
        "\n",
        "Visualización: El uso de gráficos como histogramas y diagramas de dispersión permite descubrir patrones, tendencias y posibles anomalías de forma visual.\n",
        "\n",
        "Contexto de expertos: Es esencial contar con el conocimiento de expertos en el dominio de los datos (por ejemplo, finanzas, medicina, deportes) para entender el significado y el contexto de la información.\n",
        "\n",
        "Esta etapa exploratoria es fundamental antes de cualquier análisis profundo, ya que ayuda a formular preguntas relevantes y a seleccionar los modelos más adecuados."
      ],
      "metadata": {
        "id": "kY5LXEQ9XxgI"
      }
    },
    {
      "cell_type": "markdown",
      "source": [
        "# Representación de los Datos en Memoria"
      ],
      "metadata": {
        "id": "oNDwoZ0UZAXA"
      }
    },
    {
      "cell_type": "markdown",
      "source": [
        "La memoria de un equipo de cómputo es donde se guardan todos los datos. Su unidad más básica es el bit, que solo puede tener dos valores: 1 o 0.\n",
        "\n",
        "Representación de datos en memoria\n",
        "\n",
        "Bytes: Un byte es un grupo de 8 bits. Los bytes se utilizan para representar datos más complejos, como números y letras.\n",
        "\n",
        "Tipos de datos: Debido a que es imposible representar todos los números de manera exacta en la memoria, se definen tipos de datos. Estos son representaciones que buscan la mayor precisión posible con la menor pérdida de información. Los tipos de datos se basan en estándares, como el IEEE-754, que define cómo se deben realizar las operaciones aritméticas.\n",
        "\n",
        "Formatos de representación: El estándar IEEE-754 establece dos formatos para números con decimales:\n",
        "\n",
        "Precisión Simple (32 bits): Usa 1 bit para el signo, 8 para el exponente y 23 para la mantisa.\n",
        "\n",
        "Precisión Doble (64 bits): Usa 1 bit para el signo, 11 para el exponente y 52 para la mantisa.\n",
        "\n",
        "Detalles importantes\n",
        "La forma en que se representan los datos afecta directamente las operaciones. Un ejemplo común es la comparación 0.1 + 0.2 == 0.3, que a menudo resulta en \"falso\" en muchos lenguajes de programación. Esto se debe a que las aproximaciones binarias de estos números decimales no son exactas, generando pequeñas diferencias.\n",
        "\n",
        "Para los caracteres, se usan bytes que almacenan códigos numéricos. Estos códigos corresponden a letras y símbolos en una tabla, como la tabla ASCII, que asigna un valor del 0 al 255 a cada carácter."
      ],
      "metadata": {
        "id": "6nScR9nIZKhv"
      }
    },
    {
      "cell_type": "code",
      "source": [
        "10**2\n",
        "\n",
        "\n",
        "\n",
        "\n"
      ],
      "metadata": {
        "colab": {
          "base_uri": "https://localhost:8080/"
        },
        "id": "SIkpB_-HZ0tW",
        "outputId": "a8cc2759-018b-48ad-e0d5-8f67d0b68642"
      },
      "execution_count": null,
      "outputs": [
        {
          "output_type": "execute_result",
          "data": {
            "text/plain": [
              "100"
            ]
          },
          "metadata": {},
          "execution_count": 11
        }
      ]
    },
    {
      "cell_type": "code",
      "source": [
        "10**10"
      ],
      "metadata": {
        "colab": {
          "base_uri": "https://localhost:8080/"
        },
        "id": "X5eJJVnxaato",
        "outputId": "e7cab1be-0bd1-48a5-fab9-9ac1763e6805"
      },
      "execution_count": null,
      "outputs": [
        {
          "output_type": "execute_result",
          "data": {
            "text/plain": [
              "10000000000"
            ]
          },
          "metadata": {},
          "execution_count": 12
        }
      ]
    },
    {
      "cell_type": "code",
      "source": [
        "10**100"
      ],
      "metadata": {
        "colab": {
          "base_uri": "https://localhost:8080/"
        },
        "id": "KI2BC-FPahe4",
        "outputId": "56933aeb-4910-4a10-fbfc-34b84e87d8da"
      },
      "execution_count": null,
      "outputs": [
        {
          "output_type": "execute_result",
          "data": {
            "text/plain": [
              "10000000000000000000000000000000000000000000000000000000000000000000000000000000000000000000000000000"
            ]
          },
          "metadata": {},
          "execution_count": 13
        }
      ]
    },
    {
      "cell_type": "code",
      "source": [
        "10**1000"
      ],
      "metadata": {
        "colab": {
          "base_uri": "https://localhost:8080/"
        },
        "id": "gRHxU8bBakto",
        "outputId": "9abc4ec3-f31f-4de6-ccc9-db081b5efbb2"
      },
      "execution_count": null,
      "outputs": [
        {
          "output_type": "execute_result",
          "data": {
            "text/plain": [
              "10000000000000000000000000000000000000000000000000000000000000000000000000000000000000000000000000000000000000000000000000000000000000000000000000000000000000000000000000000000000000000000000000000000000000000000000000000000000000000000000000000000000000000000000000000000000000000000000000000000000000000000000000000000000000000000000000000000000000000000000000000000000000000000000000000000000000000000000000000000000000000000000000000000000000000000000000000000000000000000000000000000000000000000000000000000000000000000000000000000000000000000000000000000000000000000000000000000000000000000000000000000000000000000000000000000000000000000000000000000000000000000000000000000000000000000000000000000000000000000000000000000000000000000000000000000000000000000000000000000000000000000000000000000000000000000000000000000000000000000000000000000000000000000000000000000000000000000000000000000000000000000000000000000000000000000000000000000000000000000000000000000000000000000000000000000000000000"
            ]
          },
          "metadata": {},
          "execution_count": 14
        }
      ]
    },
    {
      "cell_type": "code",
      "source": [
        "10**10000"
      ],
      "metadata": {
        "colab": {
          "base_uri": "https://localhost:8080/",
          "height": 356
        },
        "id": "gWkyT2zfanVI",
        "outputId": "28d785b1-6e53-43d6-9fbd-6073b70af0d3"
      },
      "execution_count": null,
      "outputs": [
        {
          "output_type": "error",
          "ename": "ValueError",
          "evalue": "Exceeds the limit (4300 digits) for integer string conversion; use sys.set_int_max_str_digits() to increase the limit",
          "traceback": [
            "\u001b[0;31m---------------------------------------------------------------------------\u001b[0m",
            "\u001b[0;31mValueError\u001b[0m                                Traceback (most recent call last)",
            "\u001b[0;32m/usr/local/lib/python3.11/dist-packages/IPython/core/formatters.py\u001b[0m in \u001b[0;36m__call__\u001b[0;34m(self, obj)\u001b[0m\n\u001b[1;32m    700\u001b[0m                 \u001b[0mtype_pprinters\u001b[0m\u001b[0;34m=\u001b[0m\u001b[0mself\u001b[0m\u001b[0;34m.\u001b[0m\u001b[0mtype_printers\u001b[0m\u001b[0;34m,\u001b[0m\u001b[0;34m\u001b[0m\u001b[0;34m\u001b[0m\u001b[0m\n\u001b[1;32m    701\u001b[0m                 deferred_pprinters=self.deferred_printers)\n\u001b[0;32m--> 702\u001b[0;31m             \u001b[0mprinter\u001b[0m\u001b[0;34m.\u001b[0m\u001b[0mpretty\u001b[0m\u001b[0;34m(\u001b[0m\u001b[0mobj\u001b[0m\u001b[0;34m)\u001b[0m\u001b[0;34m\u001b[0m\u001b[0;34m\u001b[0m\u001b[0m\n\u001b[0m\u001b[1;32m    703\u001b[0m             \u001b[0mprinter\u001b[0m\u001b[0;34m.\u001b[0m\u001b[0mflush\u001b[0m\u001b[0;34m(\u001b[0m\u001b[0;34m)\u001b[0m\u001b[0;34m\u001b[0m\u001b[0;34m\u001b[0m\u001b[0m\n\u001b[1;32m    704\u001b[0m             \u001b[0;32mreturn\u001b[0m \u001b[0mstream\u001b[0m\u001b[0;34m.\u001b[0m\u001b[0mgetvalue\u001b[0m\u001b[0;34m(\u001b[0m\u001b[0;34m)\u001b[0m\u001b[0;34m\u001b[0m\u001b[0;34m\u001b[0m\u001b[0m\n",
            "\u001b[0;32m/usr/local/lib/python3.11/dist-packages/IPython/lib/pretty.py\u001b[0m in \u001b[0;36mpretty\u001b[0;34m(self, obj)\u001b[0m\n\u001b[1;32m    375\u001b[0m                 \u001b[0;32mif\u001b[0m \u001b[0mcls\u001b[0m \u001b[0;32min\u001b[0m \u001b[0mself\u001b[0m\u001b[0;34m.\u001b[0m\u001b[0mtype_pprinters\u001b[0m\u001b[0;34m:\u001b[0m\u001b[0;34m\u001b[0m\u001b[0;34m\u001b[0m\u001b[0m\n\u001b[1;32m    376\u001b[0m                     \u001b[0;31m# printer registered in self.type_pprinters\u001b[0m\u001b[0;34m\u001b[0m\u001b[0;34m\u001b[0m\u001b[0m\n\u001b[0;32m--> 377\u001b[0;31m                     \u001b[0;32mreturn\u001b[0m \u001b[0mself\u001b[0m\u001b[0;34m.\u001b[0m\u001b[0mtype_pprinters\u001b[0m\u001b[0;34m[\u001b[0m\u001b[0mcls\u001b[0m\u001b[0;34m]\u001b[0m\u001b[0;34m(\u001b[0m\u001b[0mobj\u001b[0m\u001b[0;34m,\u001b[0m \u001b[0mself\u001b[0m\u001b[0;34m,\u001b[0m \u001b[0mcycle\u001b[0m\u001b[0;34m)\u001b[0m\u001b[0;34m\u001b[0m\u001b[0;34m\u001b[0m\u001b[0m\n\u001b[0m\u001b[1;32m    378\u001b[0m                 \u001b[0;32melse\u001b[0m\u001b[0;34m:\u001b[0m\u001b[0;34m\u001b[0m\u001b[0;34m\u001b[0m\u001b[0m\n\u001b[1;32m    379\u001b[0m                     \u001b[0;31m# deferred printer\u001b[0m\u001b[0;34m\u001b[0m\u001b[0;34m\u001b[0m\u001b[0m\n",
            "\u001b[0;32m/usr/local/lib/python3.11/dist-packages/IPython/lib/pretty.py\u001b[0m in \u001b[0;36m_repr_pprint\u001b[0;34m(obj, p, cycle)\u001b[0m\n\u001b[1;32m    698\u001b[0m     \u001b[0;34m\"\"\"A pprint that just redirects to the normal repr function.\"\"\"\u001b[0m\u001b[0;34m\u001b[0m\u001b[0;34m\u001b[0m\u001b[0m\n\u001b[1;32m    699\u001b[0m     \u001b[0;31m# Find newlines and replace them with p.break_()\u001b[0m\u001b[0;34m\u001b[0m\u001b[0;34m\u001b[0m\u001b[0m\n\u001b[0;32m--> 700\u001b[0;31m     \u001b[0moutput\u001b[0m \u001b[0;34m=\u001b[0m \u001b[0mrepr\u001b[0m\u001b[0;34m(\u001b[0m\u001b[0mobj\u001b[0m\u001b[0;34m)\u001b[0m\u001b[0;34m\u001b[0m\u001b[0;34m\u001b[0m\u001b[0m\n\u001b[0m\u001b[1;32m    701\u001b[0m     \u001b[0mlines\u001b[0m \u001b[0;34m=\u001b[0m \u001b[0moutput\u001b[0m\u001b[0;34m.\u001b[0m\u001b[0msplitlines\u001b[0m\u001b[0;34m(\u001b[0m\u001b[0;34m)\u001b[0m\u001b[0;34m\u001b[0m\u001b[0;34m\u001b[0m\u001b[0m\n\u001b[1;32m    702\u001b[0m     \u001b[0;32mwith\u001b[0m \u001b[0mp\u001b[0m\u001b[0;34m.\u001b[0m\u001b[0mgroup\u001b[0m\u001b[0;34m(\u001b[0m\u001b[0;34m)\u001b[0m\u001b[0;34m:\u001b[0m\u001b[0;34m\u001b[0m\u001b[0;34m\u001b[0m\u001b[0m\n",
            "\u001b[0;31mValueError\u001b[0m: Exceeds the limit (4300 digits) for integer string conversion; use sys.set_int_max_str_digits() to increase the limit"
          ]
        }
      ]
    },
    {
      "cell_type": "markdown",
      "source": [],
      "metadata": {
        "id": "LSvvaTRyX6-o"
      }
    },
    {
      "cell_type": "markdown",
      "source": [],
      "metadata": {
        "id": "7bn5A4J6ZI8w"
      }
    }
  ]
}